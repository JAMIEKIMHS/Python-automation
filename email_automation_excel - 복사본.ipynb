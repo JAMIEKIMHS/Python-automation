{
 "cells": [
  {
   "cell_type": "code",
   "execution_count": 1,
   "id": "e6a5764a",
   "metadata": {},
   "outputs": [],
   "source": [
    "import os"
   ]
  },
  {
   "cell_type": "code",
   "execution_count": 2,
   "id": "79413f1c",
   "metadata": {},
   "outputs": [],
   "source": [
    "male = []\n",
    "female = []\n",
    "\n",
    "for file in os.listdir(\"./male/\"):\n",
    "    f = open(f\"./male/{file}\", \"r\", encoding='utf-8')\n",
    "    tmp = f.read()\n",
    "    f.close()\n",
    "    male.append(tmp)\n",
    "\n",
    "male_sum = sum(map(lambda x : int(x.replace(\",\", \"\")), male))\n",
    "\n",
    "\n",
    "for file in os.listdir(\"./female/\"):\n",
    "    f = open(f\"./female/{file}\", \"r\", encoding='utf-8')\n",
    "    tmp = f.read()\n",
    "    f.close()\n",
    "    female.append(tmp)\n",
    "\n",
    "female_sum = sum(map(lambda x : int(x.replace(\",\", \"\")), female))"
   ]
  },
  {
   "cell_type": "code",
   "execution_count": 3,
   "id": "f5a2947c",
   "metadata": {},
   "outputs": [
    {
     "name": "stdout",
     "output_type": "stream",
     "text": [
      "59417587318 64101458996\n"
     ]
    }
   ],
   "source": [
    "print(male_sum, female_sum)"
   ]
  },
  {
   "cell_type": "code",
   "execution_count": 4,
   "id": "936deceb",
   "metadata": {},
   "outputs": [
    {
     "name": "stdout",
     "output_type": "stream",
     "text": [
      "   성별           총액\n",
      "0  남자  59417587318\n",
      "1  여자  64101458996\n"
     ]
    }
   ],
   "source": [
    "import pandas as pd\n",
    "\n",
    "# '성별'과 '총액' 열을 가진 리스트로 데이터를 만듭니다.\n",
    "data = [['남자', male_sum], ['여자', female_sum]]\n",
    "\n",
    "# 데이터프레임 생성 및 열 이름 설정\n",
    "gender_sum_df = pd.DataFrame(data, columns=['성별', '총액'])\n",
    "\n",
    "# 결과 출력\n",
    "print(gender_sum_df)"
   ]
  },
  {
   "cell_type": "code",
   "execution_count": 5,
   "id": "4aa0f259",
   "metadata": {},
   "outputs": [],
   "source": [
    "writer = pd.ExcelWriter('성별_sum.xlsx', engine='xlsxwriter')\n",
    "# 데이터프레임의 객체를 XlsxWriter Excel 객체로 변환\n",
    "gender_sum_df.to_excel(writer, sheet_name='Sheet1', index=False)\n",
    "\n",
    "\n",
    "# xlsxwriter workbook and worksheet 객체 호출\n",
    "workbook  = writer.book\n",
    "worksheet = writer.sheets['Sheet1']\n",
    "\n",
    "\n",
    "# 챠트를 추가\n",
    "chart = workbook.add_chart({'type': 'column'})\n",
    "\n",
    "\n",
    "# 챠트에 들어갈 데이터 입력 설정\n",
    "chart.add_series({\n",
    "    'values':     '=Sheet1!$B$2:$B$3',\n",
    "    'categories': '=Sheet1!$A$2:$A$3',\n",
    "    'gap':        100, # column 사이의 간격\n",
    "})\n",
    "\n",
    "\n",
    "# 챠트 axes 설정\n",
    "chart.set_x_axis({'name': '성별', 'num_font':  {'rotation': 45}})\n",
    "chart.set_y_axis({'name': '총액', 'major_gridlines': {'visible': True}})\n",
    "\n",
    "\n",
    "# 범례 설정\n",
    "chart.set_legend({'position': 'none'})\n",
    "\n",
    "\n",
    "# 챠트 삽입 위치\n",
    "worksheet.insert_chart('D2', chart)\n",
    "\n",
    "header_format = workbook.add_format({\n",
    "    'size' : 10,\n",
    "    'bold': True,\n",
    "    'text_wrap': True,\n",
    "    'valign': 'top',\n",
    "    'align' : 'center',\n",
    "    'fg_color': '#D7E4BC',\n",
    "    'border': 1})\n",
    "\n",
    "# 엑셀의 헤더 부분 Cell 포맷팅 \n",
    "for col_num, value in enumerate(gender_sum_df.columns.values):\n",
    "    worksheet.write(0, col_num, value, header_format)\n",
    "\n",
    "# Cell의 포맷팅 설정 \n",
    "format1 = workbook.add_format({'num_format': '#,##0.00'})\n",
    "format2 = workbook.add_format({'num_format':  '#,##0.00'})\n",
    "\n",
    "# B:B 전체, Cell 크기 20, format 설정은 위의 format1\n",
    "worksheet.set_column('A:A', 20, format1)\n",
    "\n",
    "# C:C 전체, Cell 크기 기본값 , format 설정은 위의 format2\n",
    "worksheet.set_column('B:B', 15, format2)\n",
    "\n",
    "worksheet.write(0,2, \"(단위:원)\")\n",
    "writer.close()"
   ]
  },
  {
   "cell_type": "code",
   "execution_count": 6,
   "id": "628bc848",
   "metadata": {},
   "outputs": [
    {
     "data": {
      "text/plain": [
       "{}"
      ]
     },
     "execution_count": 6,
     "metadata": {},
     "output_type": "execute_result"
    }
   ],
   "source": [
    "import smtplib\n",
    "from email.mime.multipart import MIMEMultipart\n",
    "from email.mime.text import MIMEText\n",
    "from email.utils import formatdate\n",
    "\n",
    "#id_, pass_ = '구글이메일', '구글에서 받은 비번'\n",
    "smtp = smtplib.SMTP_SSL(\"smtp.gmail.com\", 465) \n",
    "smtp.login(id_, pass_)\n",
    "\n",
    "\n",
    "email_message_html = \"\"\"안녕하세요. <br>\n",
    "\n",
    "<h1> 오우예 엑셀 </h1>\n",
    "\n",
    "<p><span style=\"font-weight:bold\">감사합니다.</span> </p>\n",
    "\n",
    "\"\"\"\n",
    "\n",
    "\n",
    "#email_from = \"보내는 이메일\"\n",
    "#email_to = \"받는 이메일\"\n",
    "email_date = formatdate(localtime=True)\n",
    "email_subject = \"후어\"\n",
    "\n",
    "\n",
    "msg = MIMEMultipart('mixed')\n",
    "\n",
    "# 보내는 사람 \n",
    "msg['From'] = email_from\n",
    "\n",
    "# 받는 사람 \n",
    "msg['To'] = email_to\n",
    "\n",
    "# 날짜\n",
    "msg['Date'] = email_date\n",
    "\n",
    "# 제목\n",
    "msg['Subject'] = email_subject\n",
    "\n",
    "from email.mime.application import MIMEApplication\n",
    "from email.mime.base import MIMEBase\n",
    "from email.encoders import encode_base64\n",
    "from email.header import Header\n",
    "\n",
    "\n",
    "# 실제 파일 경로를 open함수로 read 한다.\n",
    "filename = \"./성별_sum.xlsx\"\n",
    "target_file = \"./\" + filename\n",
    "with open(target_file, \"rb\") as attach_file:\n",
    "    # application, octet-stream은 모든 종류의 파일을 전송할 때 사용하는 타입 \n",
    "    file_data = MIMEBase(\"application\", \"octet-stream\")\n",
    "    file_data.set_payload(attach_file.read())\n",
    "    encode_base64(file_data)\n",
    "    # add_header에 filename를 전달해야 첨부된 파일명이 보입니다. \n",
    "    file_data.add_header('Content-Disposition', 'attachment', filename=filename)\n",
    "    msg.attach(file_data)\n",
    "\n",
    "\n",
    "# 본문 추가 (html형식으로 인코딩 방식은 utf-8)\n",
    "msg.attach(MIMEText(email_message_html, \"html\", _charset=\"utf-8\"))\n",
    "#msg.attach(MIMEText(email_message))\n",
    "\n",
    "smtp.sendmail(id_, email_to, msg.as_string())\n"
   ]
  },
  {
   "cell_type": "code",
   "execution_count": null,
   "id": "6a8032d1",
   "metadata": {},
   "outputs": [],
   "source": []
  }
 ],
 "metadata": {
  "kernelspec": {
   "display_name": "Python 3 (ipykernel)",
   "language": "python",
   "name": "python3"
  },
  "language_info": {
   "codemirror_mode": {
    "name": "ipython",
    "version": 3
   },
   "file_extension": ".py",
   "mimetype": "text/x-python",
   "name": "python",
   "nbconvert_exporter": "python",
   "pygments_lexer": "ipython3",
   "version": "3.9.13"
  }
 },
 "nbformat": 4,
 "nbformat_minor": 5
}
