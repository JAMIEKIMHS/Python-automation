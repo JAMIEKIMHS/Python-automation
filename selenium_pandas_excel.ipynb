{
 "cells": [
  {
   "cell_type": "markdown",
   "id": "ea6816b8",
   "metadata": {},
   "source": [
    "# import os"
   ]
  },
  {
   "cell_type": "code",
   "execution_count": 1,
   "id": "49bd6724",
   "metadata": {},
   "outputs": [],
   "source": [
    "import os"
   ]
  },
  {
   "cell_type": "code",
   "execution_count": 2,
   "id": "c3b4d760",
   "metadata": {},
   "outputs": [
    {
     "data": {
      "text/plain": [
       "'C:\\\\Users\\\\82103\\\\Desktop\\\\파이썬자동화'"
      ]
     },
     "execution_count": 2,
     "metadata": {},
     "output_type": "execute_result"
    }
   ],
   "source": [
    "os.getcwd()"
   ]
  },
  {
   "cell_type": "code",
   "execution_count": 3,
   "id": "aa2dc762",
   "metadata": {},
   "outputs": [],
   "source": [
    "os.chdir(\"c:/workspace\")"
   ]
  },
  {
   "cell_type": "code",
   "execution_count": 4,
   "id": "1fae558d",
   "metadata": {},
   "outputs": [
    {
     "data": {
      "text/plain": [
       "'c:\\\\workspace'"
      ]
     },
     "execution_count": 4,
     "metadata": {},
     "output_type": "execute_result"
    }
   ],
   "source": [
    "os.getcwd()"
   ]
  },
  {
   "cell_type": "code",
   "execution_count": 5,
   "id": "06f8c1bc",
   "metadata": {},
   "outputs": [
    {
     "ename": "FileNotFoundError",
     "evalue": "[WinError 2] 지정된 파일을 찾을 수 없습니다: 'C:\\\\encore'",
     "output_type": "error",
     "traceback": [
      "\u001b[1;31m---------------------------------------------------------------------------\u001b[0m",
      "\u001b[1;31mFileNotFoundError\u001b[0m                         Traceback (most recent call last)",
      "Input \u001b[1;32mIn [5]\u001b[0m, in \u001b[0;36m<cell line: 1>\u001b[1;34m()\u001b[0m\n\u001b[1;32m----> 1\u001b[0m \u001b[43mos\u001b[49m\u001b[38;5;241;43m.\u001b[39;49m\u001b[43mchdir\u001b[49m\u001b[43m(\u001b[49m\u001b[38;5;124;43m'\u001b[39;49m\u001b[38;5;124;43mC:\u001b[39;49m\u001b[38;5;130;43;01m\\\\\u001b[39;49;00m\u001b[38;5;124;43mencore\u001b[39;49m\u001b[38;5;124;43m'\u001b[39;49m\u001b[43m)\u001b[49m\n",
      "\u001b[1;31mFileNotFoundError\u001b[0m: [WinError 2] 지정된 파일을 찾을 수 없습니다: 'C:\\\\encore'"
     ]
    }
   ],
   "source": [
    "os.chdir('C:\\\\encore')"
   ]
  },
  {
   "cell_type": "code",
   "execution_count": 6,
   "id": "88e76120",
   "metadata": {},
   "outputs": [],
   "source": [
    "os.chdir('C:\\\\Users\\\\82103\\\\Desktop\\\\파이썬자동화')"
   ]
  },
  {
   "cell_type": "code",
   "execution_count": 7,
   "id": "08717906",
   "metadata": {},
   "outputs": [
    {
     "ename": "FileNotFoundError",
     "evalue": "[WinError 3] 지정된 경로를 찾을 수 없습니다: './a/b/c'",
     "output_type": "error",
     "traceback": [
      "\u001b[1;31m---------------------------------------------------------------------------\u001b[0m",
      "\u001b[1;31mFileNotFoundError\u001b[0m                         Traceback (most recent call last)",
      "Input \u001b[1;32mIn [7]\u001b[0m, in \u001b[0;36m<cell line: 1>\u001b[1;34m()\u001b[0m\n\u001b[1;32m----> 1\u001b[0m \u001b[43mos\u001b[49m\u001b[38;5;241;43m.\u001b[39;49m\u001b[43mmkdir\u001b[49m\u001b[43m(\u001b[49m\u001b[38;5;124;43m\"\u001b[39;49m\u001b[38;5;124;43m./a/b/c\u001b[39;49m\u001b[38;5;124;43m\"\u001b[39;49m\u001b[43m)\u001b[49m\n",
      "\u001b[1;31mFileNotFoundError\u001b[0m: [WinError 3] 지정된 경로를 찾을 수 없습니다: './a/b/c'"
     ]
    }
   ],
   "source": [
    "os.mkdir(\"./a/b/c\")"
   ]
  },
  {
   "cell_type": "code",
   "execution_count": 8,
   "id": "3a811941",
   "metadata": {},
   "outputs": [],
   "source": [
    "os.makedirs(\"./a/b/c\")"
   ]
  },
  {
   "cell_type": "markdown",
   "id": "dc8d72ba",
   "metadata": {},
   "source": [
    "# selenium"
   ]
  },
  {
   "cell_type": "code",
   "execution_count": 9,
   "id": "33de055a",
   "metadata": {},
   "outputs": [],
   "source": [
    "from selenium.webdriver.common.by import By\n",
    "# 웹드라이버 임포트\n",
    "from selenium import webdriver\n",
    "import selenium\n",
    "#pip install selenium --upgrade"
   ]
  },
  {
   "cell_type": "code",
   "execution_count": 10,
   "id": "5ba4e23b",
   "metadata": {},
   "outputs": [],
   "source": [
    "url = \"http://dis.kofia.or.kr/websquare/index.jsp?w2xPath=/wq/fundann/DISOnlineFund.xml&divisionId=MDIS01007001000000&serviceId=SDIS01007001000\""
   ]
  },
  {
   "cell_type": "code",
   "execution_count": 11,
   "id": "b2d1b303",
   "metadata": {},
   "outputs": [],
   "source": [
    "options = webdriver.ChromeOptions()\n",
    "options.add_argument(\"--start-maximized\")"
   ]
  },
  {
   "cell_type": "code",
   "execution_count": 12,
   "id": "a931a148",
   "metadata": {},
   "outputs": [],
   "source": [
    "driver = webdriver.Chrome(options=options)"
   ]
  },
  {
   "cell_type": "code",
   "execution_count": 13,
   "id": "b8d3fd14",
   "metadata": {},
   "outputs": [],
   "source": [
    "driver.get(url)"
   ]
  },
  {
   "cell_type": "code",
   "execution_count": 14,
   "id": "e4970c5f",
   "metadata": {},
   "outputs": [],
   "source": [
    "driver.find_element(By.CSS_SELECTOR, \"#stdDtOp_input_1\").click()"
   ]
  },
  {
   "cell_type": "code",
   "execution_count": 15,
   "id": "1f8cd0d5",
   "metadata": {},
   "outputs": [],
   "source": [
    "driver.find_element(By.CSS_SELECTOR, \"#btnSearImg\").click()"
   ]
  },
  {
   "cell_type": "code",
   "execution_count": 16,
   "id": "f3180e40",
   "metadata": {},
   "outputs": [],
   "source": [
    "while(True):\n",
    "        rt = driver.find_element(By.ID,'txtGridCnt').text\n",
    "        if(rt != '0'):\n",
    "            break\n",
    "        else:\n",
    "            time.sleep(2)\n",
    "#몇 건 있나 조회"
   ]
  },
  {
   "cell_type": "code",
   "execution_count": 17,
   "id": "e51bf4ac",
   "metadata": {},
   "outputs": [
    {
     "data": {
      "text/plain": [
       "'9,096'"
      ]
     },
     "execution_count": 17,
     "metadata": {},
     "output_type": "execute_result"
    }
   ],
   "source": [
    "rt"
   ]
  },
  {
   "cell_type": "code",
   "execution_count": 18,
   "id": "b3b1a982",
   "metadata": {},
   "outputs": [],
   "source": [
    "driver.find_element(By.CSS_SELECTOR, \"#excelDownBtn\").click()\n",
    "#엑셀로 다운로드 받는 버튼 클릭"
   ]
  },
  {
   "cell_type": "markdown",
   "id": "590626a0",
   "metadata": {},
   "source": [
    "# 다운 받은 것 이동"
   ]
  },
  {
   "cell_type": "code",
   "execution_count": 19,
   "id": "c578a297",
   "metadata": {},
   "outputs": [],
   "source": [
    "import os, glob"
   ]
  },
  {
   "cell_type": "code",
   "execution_count": 20,
   "id": "c243bbad",
   "metadata": {},
   "outputs": [],
   "source": [
    "file_list = glob.glob(r\"C:\\Users\\82103\\Downloads\\*.xls\")"
   ]
  },
  {
   "cell_type": "code",
   "execution_count": 21,
   "id": "e8657393",
   "metadata": {},
   "outputs": [
    {
     "data": {
      "text/plain": [
       "['C:\\\\Users\\\\82103\\\\Downloads\\\\온라인전용펀드_20230826.xls']"
      ]
     },
     "execution_count": 21,
     "metadata": {},
     "output_type": "execute_result"
    }
   ],
   "source": [
    "file_list"
   ]
  },
  {
   "cell_type": "code",
   "execution_count": 22,
   "id": "292277a6",
   "metadata": {},
   "outputs": [],
   "source": [
    "latest_file = max(file_list, key=os.path.getctime)\n",
    "# file_list 중에서 가장 최근에 생성 또는 수정된 파일의 이름이 latest_file 변수에 저장"
   ]
  },
  {
   "cell_type": "code",
   "execution_count": 23,
   "id": "2dfda4c9",
   "metadata": {},
   "outputs": [
    {
     "data": {
      "text/plain": [
       "'C:\\\\Users\\\\82103\\\\Downloads\\\\온라인전용펀드_20230826.xls'"
      ]
     },
     "execution_count": 23,
     "metadata": {},
     "output_type": "execute_result"
    }
   ],
   "source": [
    "latest_file"
   ]
  },
  {
   "cell_type": "code",
   "execution_count": 24,
   "id": "d69ea35d",
   "metadata": {},
   "outputs": [],
   "source": [
    "r= driver.find_element(By.CSS_SELECTOR, \"#nextDate_input\")\n",
    "# 사이트에서 기준일자 찾음 > 8월에 하면 7-31까지"
   ]
  },
  {
   "cell_type": "code",
   "execution_count": 26,
   "id": "e58267ec",
   "metadata": {},
   "outputs": [
    {
     "data": {
      "text/plain": [
       "<selenium.webdriver.remote.webelement.WebElement (session=\"cc8417bf7cc253bd12a925b1499bf9ca\", element=\"83DC202B1A9028B28EA5813DAACA69EF_element_279\")>"
      ]
     },
     "execution_count": 26,
     "metadata": {},
     "output_type": "execute_result"
    }
   ],
   "source": [
    "r"
   ]
  },
  {
   "cell_type": "code",
   "execution_count": 27,
   "id": "c349e724",
   "metadata": {},
   "outputs": [
    {
     "data": {
      "text/plain": [
       "'2023-07-31'"
      ]
     },
     "execution_count": 27,
     "metadata": {},
     "output_type": "execute_result"
    }
   ],
   "source": [
    "month = r.get_attribute(\"value\")\n",
    "month"
   ]
  },
  {
   "cell_type": "code",
   "execution_count": 28,
   "id": "a8ed98ad",
   "metadata": {},
   "outputs": [
    {
     "data": {
      "text/plain": [
       "'온라인전용펀드_2023-07-31.xls'"
      ]
     },
     "execution_count": 28,
     "metadata": {},
     "output_type": "execute_result"
    }
   ],
   "source": [
    "\"온라인전용펀드_{}.xls\".format(month)\n",
    "# 파일 이름을 기준일자 기준으로 바꾸고 싶음"
   ]
  },
  {
   "cell_type": "code",
   "execution_count": 29,
   "id": "763b5ac2",
   "metadata": {},
   "outputs": [],
   "source": [
    "if os.path.isdir(\"./fund\") == False:\n",
    "    os.mkdir(\"./fund\")\n",
    "\n",
    "# fund라는 폴더 없으면 만든다."
   ]
  },
  {
   "cell_type": "code",
   "execution_count": 31,
   "id": "b7c0f9a3",
   "metadata": {},
   "outputs": [],
   "source": [
    "os.rename(latest_file, \"./fund/{}\".format(\"온라인전용펀드_{}.xlsx\".format(month)))\n",
    "# 이름 rename"
   ]
  },
  {
   "cell_type": "markdown",
   "id": "d05c583e",
   "metadata": {},
   "source": [
    "# pandas로 전처리 후 excel에 저장"
   ]
  },
  {
   "cell_type": "markdown",
   "id": "0cf00d45",
   "metadata": {},
   "source": [
    "* KB, NH, 미래에셋, 삼성, 신영, 한투 회사의 온라인 판매현황을 확인\n",
    "\n",
    "* 운용회사 이름을 정리\n",
    "    - 미래에셋자산운용을 > 미래에셋\n",
    "    - 케이비자산운용을 > KB\n",
    "    - 한국투자신탁운용을 > 한투 \n",
    "    - 엔에이치아문디자산운용을 > NH\n",
    "    - 신영자산운용을 > 신영\n",
    "    - 삼성액티브자산운용, 삼성자산운용 > 삼성"
   ]
  },
  {
   "cell_type": "code",
   "execution_count": 32,
   "id": "b859c5e8",
   "metadata": {},
   "outputs": [],
   "source": [
    "import pandas as pd\n",
    "import matplotlib.pyplot as plt\n",
    "import matplotlib as mpl"
   ]
  },
  {
   "cell_type": "markdown",
   "id": "8040e276",
   "metadata": {},
   "source": [
    "## 방법 1"
   ]
  },
  {
   "cell_type": "code",
   "execution_count": 35,
   "id": "32a54f05",
   "metadata": {},
   "outputs": [],
   "source": [
    "df1 = pd.read_excel(\"./fund/온라인전용펀드_2023-07-31.xlsx\", header=1)"
   ]
  },
  {
   "cell_type": "code",
   "execution_count": 36,
   "id": "c91ceb5d",
   "metadata": {
    "scrolled": true
   },
   "outputs": [
    {
     "data": {
      "text/html": [
       "<div>\n",
       "<style scoped>\n",
       "    .dataframe tbody tr th:only-of-type {\n",
       "        vertical-align: middle;\n",
       "    }\n",
       "\n",
       "    .dataframe tbody tr th {\n",
       "        vertical-align: top;\n",
       "    }\n",
       "\n",
       "    .dataframe thead th {\n",
       "        text-align: right;\n",
       "    }\n",
       "</style>\n",
       "<table border=\"1\" class=\"dataframe\">\n",
       "  <thead>\n",
       "    <tr style=\"text-align: right;\">\n",
       "      <th></th>\n",
       "      <th>운용회사</th>\n",
       "      <th>펀드명</th>\n",
       "      <th>Unnamed: 2</th>\n",
       "      <th>설정일</th>\n",
       "      <th>펀드유형</th>\n",
       "      <th>설정원본</th>\n",
       "      <th>NAV</th>\n",
       "      <th>기준</th>\n",
       "      <th>과표</th>\n",
       "      <th>표준코드</th>\n",
       "    </tr>\n",
       "  </thead>\n",
       "  <tbody>\n",
       "    <tr>\n",
       "      <th>0</th>\n",
       "      <td>골든브릿지자산운용</td>\n",
       "      <td>GB100년공모주증권자투자신탁 2[채권혼합]종류Ae</td>\n",
       "      <td>NaN</td>\n",
       "      <td>20180122</td>\n",
       "      <td>혼합채권형</td>\n",
       "      <td>41</td>\n",
       "      <td>41</td>\n",
       "      <td>998.12</td>\n",
       "      <td>1018.38</td>\n",
       "      <td>K55309BK8501</td>\n",
       "    </tr>\n",
       "    <tr>\n",
       "      <th>1</th>\n",
       "      <td>골든브릿지자산운용</td>\n",
       "      <td>GB100년공모주증권자투자신탁 2[채권혼합]종류Ce</td>\n",
       "      <td>NaN</td>\n",
       "      <td>20180122</td>\n",
       "      <td>혼합채권형</td>\n",
       "      <td>0</td>\n",
       "      <td>0</td>\n",
       "      <td>999.53</td>\n",
       "      <td>1019.69</td>\n",
       "      <td>K55309BK8519</td>\n",
       "    </tr>\n",
       "    <tr>\n",
       "      <th>2</th>\n",
       "      <td>골든브릿지자산운용</td>\n",
       "      <td>골든브릿지K-디펜스인더스트리얼즈증권투자신탁[주식혼합]종류A-e</td>\n",
       "      <td>NaN</td>\n",
       "      <td>20221020</td>\n",
       "      <td>혼합주식형</td>\n",
       "      <td>0</td>\n",
       "      <td>1</td>\n",
       "      <td>1130.83</td>\n",
       "      <td>1010.47</td>\n",
       "      <td>K55309DY1789</td>\n",
       "    </tr>\n",
       "    <tr>\n",
       "      <th>3</th>\n",
       "      <td>골든브릿지자산운용</td>\n",
       "      <td>골든브릿지K-디펜스인더스트리얼즈증권투자신탁[주식혼합]종류C-Pe</td>\n",
       "      <td>NaN</td>\n",
       "      <td>20221020</td>\n",
       "      <td>혼합주식형</td>\n",
       "      <td>8</td>\n",
       "      <td>9</td>\n",
       "      <td>1130.93</td>\n",
       "      <td>1010.58</td>\n",
       "      <td>K55309DY1847</td>\n",
       "    </tr>\n",
       "    <tr>\n",
       "      <th>4</th>\n",
       "      <td>골든브릿지자산운용</td>\n",
       "      <td>골든브릿지K-디펜스인더스트리얼즈증권투자신탁[주식혼합]종류C-e</td>\n",
       "      <td>NaN</td>\n",
       "      <td>20221024</td>\n",
       "      <td>혼합주식형</td>\n",
       "      <td>0</td>\n",
       "      <td>0</td>\n",
       "      <td>1131.23</td>\n",
       "      <td>1010.93</td>\n",
       "      <td>K55309DY1813</td>\n",
       "    </tr>\n",
       "  </tbody>\n",
       "</table>\n",
       "</div>"
      ],
      "text/plain": [
       "        운용회사                                  펀드명  Unnamed: 2       설정일  \\\n",
       "0  골든브릿지자산운용         GB100년공모주증권자투자신탁 2[채권혼합]종류Ae         NaN  20180122   \n",
       "1  골든브릿지자산운용         GB100년공모주증권자투자신탁 2[채권혼합]종류Ce         NaN  20180122   \n",
       "2  골든브릿지자산운용   골든브릿지K-디펜스인더스트리얼즈증권투자신탁[주식혼합]종류A-e         NaN  20221020   \n",
       "3  골든브릿지자산운용  골든브릿지K-디펜스인더스트리얼즈증권투자신탁[주식혼합]종류C-Pe         NaN  20221020   \n",
       "4  골든브릿지자산운용   골든브릿지K-디펜스인더스트리얼즈증권투자신탁[주식혼합]종류C-e         NaN  20221024   \n",
       "\n",
       "    펀드유형  설정원본  NAV       기준       과표          표준코드  \n",
       "0  혼합채권형    41   41   998.12  1018.38  K55309BK8501  \n",
       "1  혼합채권형     0    0   999.53  1019.69  K55309BK8519  \n",
       "2  혼합주식형     0    1  1130.83  1010.47  K55309DY1789  \n",
       "3  혼합주식형     8    9  1130.93  1010.58  K55309DY1847  \n",
       "4  혼합주식형     0    0  1131.23  1010.93  K55309DY1813  "
      ]
     },
     "execution_count": 36,
     "metadata": {},
     "output_type": "execute_result"
    }
   ],
   "source": [
    "df1.head()"
   ]
  },
  {
   "cell_type": "code",
   "execution_count": 37,
   "id": "2c417ba3",
   "metadata": {},
   "outputs": [
    {
     "data": {
      "text/plain": [
       "Index(['운용회사', '펀드명', 'Unnamed: 2', '설정일', '펀드유형', '설정원본', 'NAV', '기준', '과표',\n",
       "       '표준코드'],\n",
       "      dtype='object')"
      ]
     },
     "execution_count": 37,
     "metadata": {},
     "output_type": "execute_result"
    }
   ],
   "source": [
    "df1.columns"
   ]
  },
  {
   "cell_type": "code",
   "execution_count": 38,
   "id": "2301c365",
   "metadata": {},
   "outputs": [],
   "source": [
    "df1_extract = df1[['운용회사', '펀드명','설정일', '펀드유형', '설정원본', 'NAV']].copy()"
   ]
  },
  {
   "cell_type": "code",
   "execution_count": 39,
   "id": "b42b43bd",
   "metadata": {},
   "outputs": [
    {
     "data": {
      "text/plain": [
       "array(['골든브릿지자산운용', '교보악사자산운용', '다올자산운용', '대신자산운용', '더제이자산운용',\n",
       "       '디더블유에스자산운용', '디비자산운용', '디에스자산운용', '마이다스에셋자산운용', '머스트자산운용',\n",
       "       '멀티에셋자산운용', '미래에셋자산운용', '베어링자산운용', '브레인자산운용', '브이아이자산운용',\n",
       "       '브이아이피자산운용', '비엔케이자산운용', '삼성액티브자산운용', '삼성자산운용', '슈로더투자신탁운용',\n",
       "       '스팍스자산운용', '신영자산운용', '신한자산운용', '아이비케이자산운용', '알파자산운용',\n",
       "       '얼라이언스번스틴자산운용', '에셋플러스자산운용', '에이치디씨자산운용', '엔에이치아문디자산운용',\n",
       "       '우리글로벌자산운용', '우리자산운용', '웰컴자산운용', '유경피에스지자산운용', '유리자산운용', '유진자산운용',\n",
       "       '이스트스프링자산운용', '이지스자산운용', '칸서스자산운용', '케이비자산운용', '케이씨지아이자산운용',\n",
       "       '코레이트자산운용', '키움투자자산운용', '타이거자산운용투자일임', '타임폴리오자산운용', '트러스톤자산운용',\n",
       "       '파인만자산운용', '파인밸류자산운용', '파인아시아자산운용', '플러스자산운용', '피델리티자산운용',\n",
       "       '피티알자산운용', '하나유비에스자산운용', '하우자산운용', '하이자산운용', '한국투자밸류자산운용',\n",
       "       '한국투자신탁운용', '한화자산운용', '현대인베스트먼트자산운용', '현대자산운용', '흥국자산운용'],\n",
       "      dtype=object)"
      ]
     },
     "execution_count": 39,
     "metadata": {},
     "output_type": "execute_result"
    }
   ],
   "source": [
    "df1_extract.운용회사.unique()"
   ]
  },
  {
   "cell_type": "code",
   "execution_count": 40,
   "id": "9c2651a7",
   "metadata": {},
   "outputs": [
    {
     "name": "stdout",
     "output_type": "stream",
     "text": [
      "<class 'pandas.core.frame.DataFrame'>\n",
      "RangeIndex: 9096 entries, 0 to 9095\n",
      "Data columns (total 6 columns):\n",
      " #   Column  Non-Null Count  Dtype \n",
      "---  ------  --------------  ----- \n",
      " 0   운용회사    9096 non-null   object\n",
      " 1   펀드명     9096 non-null   object\n",
      " 2   설정일     9096 non-null   int64 \n",
      " 3   펀드유형    9096 non-null   object\n",
      " 4   설정원본    9096 non-null   int64 \n",
      " 5   NAV     9096 non-null   int64 \n",
      "dtypes: int64(3), object(3)\n",
      "memory usage: 426.5+ KB\n"
     ]
    }
   ],
   "source": [
    "df1_extract.info()"
   ]
  },
  {
   "cell_type": "code",
   "execution_count": 41,
   "id": "a97e1c17",
   "metadata": {},
   "outputs": [],
   "source": [
    "company_replacements = {\n",
    "    \"미래에셋자산운용\": \"미래에셋\",\n",
    "    \"케이비자산운용\": \"KB\",\n",
    "    \"한국투자신탁운용\": \"한투\",\n",
    "    \"엔에이치아문디자산운용\": \"NH\",\n",
    "    \"신영자산운용\": \"신영\",\n",
    "    \"삼성액티브자산운용\": \"삼성\",\n",
    "    \"삼성자산운용\": \"삼성\"\n",
    "}\n",
    "df1_extract['운용회사'] = df1_extract['운용회사'].replace(company_replacements)"
   ]
  },
  {
   "cell_type": "code",
   "execution_count": 42,
   "id": "f6d671e9",
   "metadata": {},
   "outputs": [
    {
     "data": {
      "text/plain": [
       "array(['골든브릿지자산운용', '교보악사자산운용', '다올자산운용', '대신자산운용', '더제이자산운용',\n",
       "       '디더블유에스자산운용', '디비자산운용', '디에스자산운용', '마이다스에셋자산운용', '머스트자산운용',\n",
       "       '멀티에셋자산운용', '미래에셋', '베어링자산운용', '브레인자산운용', '브이아이자산운용', '브이아이피자산운용',\n",
       "       '비엔케이자산운용', '삼성', '슈로더투자신탁운용', '스팍스자산운용', '신영', '신한자산운용',\n",
       "       '아이비케이자산운용', '알파자산운용', '얼라이언스번스틴자산운용', '에셋플러스자산운용', '에이치디씨자산운용',\n",
       "       'NH', '우리글로벌자산운용', '우리자산운용', '웰컴자산운용', '유경피에스지자산운용', '유리자산운용',\n",
       "       '유진자산운용', '이스트스프링자산운용', '이지스자산운용', '칸서스자산운용', 'KB', '케이씨지아이자산운용',\n",
       "       '코레이트자산운용', '키움투자자산운용', '타이거자산운용투자일임', '타임폴리오자산운용', '트러스톤자산운용',\n",
       "       '파인만자산운용', '파인밸류자산운용', '파인아시아자산운용', '플러스자산운용', '피델리티자산운용',\n",
       "       '피티알자산운용', '하나유비에스자산운용', '하우자산운용', '하이자산운용', '한국투자밸류자산운용', '한투',\n",
       "       '한화자산운용', '현대인베스트먼트자산운용', '현대자산운용', '흥국자산운용'], dtype=object)"
      ]
     },
     "execution_count": 42,
     "metadata": {},
     "output_type": "execute_result"
    }
   ],
   "source": [
    "df1_extract.운용회사.unique()"
   ]
  },
  {
   "cell_type": "code",
   "execution_count": 43,
   "id": "31044743",
   "metadata": {},
   "outputs": [],
   "source": [
    "selected_companies = ['미래에셋', 'KB', '한투', 'NH', '신영', '삼성']\n",
    "filtered_df = df1_extract[df1_extract['운용회사'].isin(selected_companies)]"
   ]
  },
  {
   "cell_type": "code",
   "execution_count": 44,
   "id": "0e3d2174",
   "metadata": {},
   "outputs": [
    {
     "data": {
      "text/plain": [
       "array(['미래에셋', '삼성', '신영', 'NH', 'KB', '한투'], dtype=object)"
      ]
     },
     "execution_count": 44,
     "metadata": {},
     "output_type": "execute_result"
    }
   ],
   "source": [
    "filtered_df.운용회사.unique()"
   ]
  },
  {
   "cell_type": "code",
   "execution_count": 45,
   "id": "c09ff4d0",
   "metadata": {},
   "outputs": [
    {
     "data": {
      "text/plain": [
       "(3569, 6)"
      ]
     },
     "execution_count": 45,
     "metadata": {},
     "output_type": "execute_result"
    }
   ],
   "source": [
    "filtered_df.shape"
   ]
  },
  {
   "cell_type": "markdown",
   "id": "b4ae6b29",
   "metadata": {},
   "source": [
    "## 방법 2"
   ]
  },
  {
   "cell_type": "code",
   "execution_count": 48,
   "id": "dcf3adb6",
   "metadata": {},
   "outputs": [],
   "source": [
    "df1_extract.loc[df1_extract['운용회사']==\"미래에셋자산운용\", '운용회사']  = \"미래에셋\"\n",
    "# str.contains() 메소드는 해당 column에 문구가 포함되어 있는지 확인하는 메소드\n",
    "df1_extract.loc[df1_extract['운용회사'].str.contains('삼성'),'운용회사']   = '삼성'\n",
    "df1_extract.loc[df1_extract['운용회사']==\"케이비자산운용\", '운용회사'] = \"KB\"\n",
    "df1_extract.loc[df1_extract['운용회사']==\"한국투자신탁운용\", '운용회사'] = \"한투\"\n",
    "df1_extract.loc[df1_extract['운용회사']==\"엔에이치아문디자산운용\", '운용회사'] = \"NH\"\n",
    "df1_extract.loc[df1_extract['운용회사']==\"신영자산운용\", '운용회사'] = \"신영\""
   ]
  },
  {
   "cell_type": "code",
   "execution_count": 49,
   "id": "980d31dc",
   "metadata": {},
   "outputs": [],
   "source": [
    "df1_extract_2 = df1_extract.loc[df1_extract['운용회사'].isin([\"삼성\", \"한투\", \"NH\", \"KB\", \"신영\", \"미래에셋\"]), :].copy()"
   ]
  },
  {
   "cell_type": "code",
   "execution_count": 50,
   "id": "785455f4",
   "metadata": {},
   "outputs": [
    {
     "data": {
      "text/plain": [
       "(3569, 6)"
      ]
     },
     "execution_count": 50,
     "metadata": {},
     "output_type": "execute_result"
    }
   ],
   "source": [
    "df1_extract_2.shape"
   ]
  },
  {
   "cell_type": "code",
   "execution_count": 51,
   "id": "23398b14",
   "metadata": {},
   "outputs": [
    {
     "name": "stdout",
     "output_type": "stream",
     "text": [
      "<class 'pandas.core.frame.DataFrame'>\n",
      "Int64Index: 3569 entries, 972 to 8501\n",
      "Data columns (total 6 columns):\n",
      " #   Column  Non-Null Count  Dtype \n",
      "---  ------  --------------  ----- \n",
      " 0   운용회사    3569 non-null   object\n",
      " 1   펀드명     3569 non-null   object\n",
      " 2   설정일     3569 non-null   int64 \n",
      " 3   펀드유형    3569 non-null   object\n",
      " 4   설정원본    3569 non-null   int64 \n",
      " 5   NAV     3569 non-null   int64 \n",
      "dtypes: int64(3), object(3)\n",
      "memory usage: 195.2+ KB\n"
     ]
    }
   ],
   "source": [
    "df1_extract_2.info()"
   ]
  },
  {
   "cell_type": "markdown",
   "id": "09a90823",
   "metadata": {},
   "source": [
    "# sum"
   ]
  },
  {
   "cell_type": "code",
   "execution_count": 52,
   "id": "a343b40a",
   "metadata": {},
   "outputs": [],
   "source": [
    "# 백만원 -> 억 단위로 변경\n",
    "df1_extract_2['NAV'] = df1_extract_2['NAV'].apply(lambda x : x / 100)"
   ]
  },
  {
   "cell_type": "code",
   "execution_count": 53,
   "id": "c6559a20",
   "metadata": {},
   "outputs": [
    {
     "data": {
      "text/html": [
       "<div>\n",
       "<style scoped>\n",
       "    .dataframe tbody tr th:only-of-type {\n",
       "        vertical-align: middle;\n",
       "    }\n",
       "\n",
       "    .dataframe tbody tr th {\n",
       "        vertical-align: top;\n",
       "    }\n",
       "\n",
       "    .dataframe thead th {\n",
       "        text-align: right;\n",
       "    }\n",
       "</style>\n",
       "<table border=\"1\" class=\"dataframe\">\n",
       "  <thead>\n",
       "    <tr style=\"text-align: right;\">\n",
       "      <th></th>\n",
       "      <th>운용회사</th>\n",
       "      <th>펀드명</th>\n",
       "      <th>설정일</th>\n",
       "      <th>펀드유형</th>\n",
       "      <th>설정원본</th>\n",
       "      <th>NAV</th>\n",
       "    </tr>\n",
       "  </thead>\n",
       "  <tbody>\n",
       "    <tr>\n",
       "      <th>972</th>\n",
       "      <td>미래에셋</td>\n",
       "      <td>미래에셋3억만들기솔로몬증권투자신탁 1(주식)종류A-e</td>\n",
       "      <td>20180227</td>\n",
       "      <td>주식형</td>\n",
       "      <td>197</td>\n",
       "      <td>2.74</td>\n",
       "    </tr>\n",
       "    <tr>\n",
       "      <th>973</th>\n",
       "      <td>미래에셋</td>\n",
       "      <td>미래에셋3억만들기솔로몬증권투자신탁 1(주식)종류C-e</td>\n",
       "      <td>20180529</td>\n",
       "      <td>주식형</td>\n",
       "      <td>166</td>\n",
       "      <td>1.64</td>\n",
       "    </tr>\n",
       "    <tr>\n",
       "      <th>974</th>\n",
       "      <td>미래에셋</td>\n",
       "      <td>미래에셋3억만들기솔로몬증권투자신탁 1(주식)종류S</td>\n",
       "      <td>20140516</td>\n",
       "      <td>주식형</td>\n",
       "      <td>9</td>\n",
       "      <td>0.10</td>\n",
       "    </tr>\n",
       "    <tr>\n",
       "      <th>975</th>\n",
       "      <td>미래에셋</td>\n",
       "      <td>미래에셋AI글로벌모멘텀혼합자산자투자신탁(재간접형)종류A-e</td>\n",
       "      <td>20190926</td>\n",
       "      <td>혼합자산</td>\n",
       "      <td>122</td>\n",
       "      <td>1.35</td>\n",
       "    </tr>\n",
       "    <tr>\n",
       "      <th>976</th>\n",
       "      <td>미래에셋</td>\n",
       "      <td>미래에셋AI글로벌모멘텀혼합자산자투자신탁(재간접형)종류C-P2e</td>\n",
       "      <td>20191002</td>\n",
       "      <td>혼합자산</td>\n",
       "      <td>389</td>\n",
       "      <td>4.35</td>\n",
       "    </tr>\n",
       "  </tbody>\n",
       "</table>\n",
       "</div>"
      ],
      "text/plain": [
       "     운용회사                                 펀드명       설정일  펀드유형  설정원본   NAV\n",
       "972  미래에셋       미래에셋3억만들기솔로몬증권투자신탁 1(주식)종류A-e  20180227   주식형   197  2.74\n",
       "973  미래에셋       미래에셋3억만들기솔로몬증권투자신탁 1(주식)종류C-e  20180529   주식형   166  1.64\n",
       "974  미래에셋         미래에셋3억만들기솔로몬증권투자신탁 1(주식)종류S  20140516   주식형     9  0.10\n",
       "975  미래에셋    미래에셋AI글로벌모멘텀혼합자산자투자신탁(재간접형)종류A-e  20190926  혼합자산   122  1.35\n",
       "976  미래에셋  미래에셋AI글로벌모멘텀혼합자산자투자신탁(재간접형)종류C-P2e  20191002  혼합자산   389  4.35"
      ]
     },
     "execution_count": 53,
     "metadata": {},
     "output_type": "execute_result"
    }
   ],
   "source": [
    "df1_extract_2.head()"
   ]
  },
  {
   "cell_type": "code",
   "execution_count": 54,
   "id": "62ab1597",
   "metadata": {},
   "outputs": [
    {
     "data": {
      "text/html": [
       "<div>\n",
       "<style scoped>\n",
       "    .dataframe tbody tr th:only-of-type {\n",
       "        vertical-align: middle;\n",
       "    }\n",
       "\n",
       "    .dataframe tbody tr th {\n",
       "        vertical-align: top;\n",
       "    }\n",
       "\n",
       "    .dataframe thead th {\n",
       "        text-align: right;\n",
       "    }\n",
       "</style>\n",
       "<table border=\"1\" class=\"dataframe\">\n",
       "  <thead>\n",
       "    <tr style=\"text-align: right;\">\n",
       "      <th></th>\n",
       "      <th>NAV</th>\n",
       "    </tr>\n",
       "    <tr>\n",
       "      <th>운용회사</th>\n",
       "      <th></th>\n",
       "    </tr>\n",
       "  </thead>\n",
       "  <tbody>\n",
       "    <tr>\n",
       "      <th>신영</th>\n",
       "      <td>3705.82</td>\n",
       "    </tr>\n",
       "    <tr>\n",
       "      <th>NH</th>\n",
       "      <td>14538.84</td>\n",
       "    </tr>\n",
       "    <tr>\n",
       "      <th>삼성</th>\n",
       "      <td>27916.51</td>\n",
       "    </tr>\n",
       "    <tr>\n",
       "      <th>KB</th>\n",
       "      <td>30461.79</td>\n",
       "    </tr>\n",
       "    <tr>\n",
       "      <th>한투</th>\n",
       "      <td>33402.89</td>\n",
       "    </tr>\n",
       "    <tr>\n",
       "      <th>미래에셋</th>\n",
       "      <td>57505.02</td>\n",
       "    </tr>\n",
       "  </tbody>\n",
       "</table>\n",
       "</div>"
      ],
      "text/plain": [
       "           NAV\n",
       "운용회사          \n",
       "신영     3705.82\n",
       "NH    14538.84\n",
       "삼성    27916.51\n",
       "KB    30461.79\n",
       "한투    33402.89\n",
       "미래에셋  57505.02"
      ]
     },
     "execution_count": 54,
     "metadata": {},
     "output_type": "execute_result"
    }
   ],
   "source": [
    "df1_extract_2.groupby('운용회사')[['NAV']].sum().sort_values(by='NAV')"
   ]
  },
  {
   "cell_type": "code",
   "execution_count": 55,
   "id": "00b9ab84",
   "metadata": {},
   "outputs": [],
   "source": [
    "df1_graph = df1_extract_2.groupby(['운용회사'])[['NAV']].sum()"
   ]
  },
  {
   "cell_type": "code",
   "execution_count": 56,
   "id": "06545d89",
   "metadata": {},
   "outputs": [],
   "source": [
    "df1_graph.reset_index(inplace=True)"
   ]
  },
  {
   "cell_type": "code",
   "execution_count": 57,
   "id": "1e7e21ab",
   "metadata": {},
   "outputs": [
    {
     "data": {
      "text/html": [
       "<div>\n",
       "<style scoped>\n",
       "    .dataframe tbody tr th:only-of-type {\n",
       "        vertical-align: middle;\n",
       "    }\n",
       "\n",
       "    .dataframe tbody tr th {\n",
       "        vertical-align: top;\n",
       "    }\n",
       "\n",
       "    .dataframe thead th {\n",
       "        text-align: right;\n",
       "    }\n",
       "</style>\n",
       "<table border=\"1\" class=\"dataframe\">\n",
       "  <thead>\n",
       "    <tr style=\"text-align: right;\">\n",
       "      <th></th>\n",
       "      <th>운용회사</th>\n",
       "      <th>NAV</th>\n",
       "    </tr>\n",
       "  </thead>\n",
       "  <tbody>\n",
       "    <tr>\n",
       "      <th>0</th>\n",
       "      <td>KB</td>\n",
       "      <td>30461.79</td>\n",
       "    </tr>\n",
       "    <tr>\n",
       "      <th>1</th>\n",
       "      <td>NH</td>\n",
       "      <td>14538.84</td>\n",
       "    </tr>\n",
       "    <tr>\n",
       "      <th>2</th>\n",
       "      <td>미래에셋</td>\n",
       "      <td>57505.02</td>\n",
       "    </tr>\n",
       "    <tr>\n",
       "      <th>3</th>\n",
       "      <td>삼성</td>\n",
       "      <td>27916.51</td>\n",
       "    </tr>\n",
       "    <tr>\n",
       "      <th>4</th>\n",
       "      <td>신영</td>\n",
       "      <td>3705.82</td>\n",
       "    </tr>\n",
       "    <tr>\n",
       "      <th>5</th>\n",
       "      <td>한투</td>\n",
       "      <td>33402.89</td>\n",
       "    </tr>\n",
       "  </tbody>\n",
       "</table>\n",
       "</div>"
      ],
      "text/plain": [
       "   운용회사       NAV\n",
       "0    KB  30461.79\n",
       "1    NH  14538.84\n",
       "2  미래에셋  57505.02\n",
       "3    삼성  27916.51\n",
       "4    신영   3705.82\n",
       "5    한투  33402.89"
      ]
     },
     "execution_count": 57,
     "metadata": {},
     "output_type": "execute_result"
    }
   ],
   "source": [
    "df1_graph"
   ]
  },
  {
   "cell_type": "markdown",
   "id": "fb0fe717",
   "metadata": {},
   "source": [
    "# 엑셀에 그래프 추가"
   ]
  },
  {
   "cell_type": "code",
   "execution_count": 58,
   "id": "5bd3ded7",
   "metadata": {},
   "outputs": [],
   "source": [
    "writer = pd.ExcelWriter('fund_example.xlsx', engine='xlsxwriter')\n",
    "\n",
    "#fund_example라는 이름으로 저장됨"
   ]
  },
  {
   "cell_type": "code",
   "execution_count": 59,
   "id": "b0ddc265",
   "metadata": {},
   "outputs": [],
   "source": [
    "# 데이터프레임의 객체를 XlsxWriter Excel 객체로 변환\n",
    "df1_graph.to_excel(writer, sheet_name='Sheet1', index=False)\n",
    "\n",
    "\n",
    "# xlsxwriter workbook and worksheet 객체 호출\n",
    "workbook  = writer.book\n",
    "worksheet = writer.sheets['Sheet1']"
   ]
  },
  {
   "cell_type": "code",
   "execution_count": 60,
   "id": "ce8ebfdc",
   "metadata": {},
   "outputs": [
    {
     "data": {
      "text/plain": [
       "0"
      ]
     },
     "execution_count": 60,
     "metadata": {},
     "output_type": "execute_result"
    }
   ],
   "source": [
    "# 챠트를 추가\n",
    "chart = workbook.add_chart({'type': 'column'})\n",
    "\n",
    "\n",
    "# 챠트에 들어갈 데이터 입력 설정\n",
    "chart.add_series({\n",
    "    'values':     '=Sheet1!$B$2:$B$7',\n",
    "    'categories': '=Sheet1!$A$2:$A$7',\n",
    "    'gap':        100, # column 사이의 간격\n",
    "})\n",
    "\n",
    "\n",
    "# 챠트 axes 설정\n",
    "chart.set_x_axis({'name': '펀드운용사', 'num_font':  {'rotation': 45}})\n",
    "chart.set_y_axis({'name': 'NAV(단위: 억)', 'major_gridlines': {'visible': True}})\n",
    "\n",
    "\n",
    "# 범례 설정\n",
    "chart.set_legend({'position': 'none'})\n",
    "\n",
    "\n",
    "# 챠트 삽입 위치\n",
    "worksheet.insert_chart('D2', chart)"
   ]
  },
  {
   "cell_type": "code",
   "execution_count": 61,
   "id": "37af469c",
   "metadata": {},
   "outputs": [],
   "source": [
    "header_format = workbook.add_format({\n",
    "    'size' : 10,\n",
    "    'bold': True,\n",
    "    'text_wrap': True,\n",
    "    'valign': 'top',\n",
    "    'align' : 'center',\n",
    "    'fg_color': '#D7E4BC',\n",
    "    'border': 1})"
   ]
  },
  {
   "cell_type": "code",
   "execution_count": 62,
   "id": "24981417",
   "metadata": {},
   "outputs": [],
   "source": [
    "# 엑셀의 헤더 부분 Cell 포맷팅 \n",
    "for col_num, value in enumerate(df1_graph.columns.values):\n",
    "    worksheet.write(0, col_num, value, header_format)\n",
    "\n",
    "# Cell의 포맷팅 설정 \n",
    "format1 = workbook.add_format({'num_format': '#,##0.00'})\n",
    "format2 = workbook.add_format({'num_format':  '#,##0.00'})\n",
    "\n",
    "# B:B 전체, Cell 크기 20, format 설정은 위의 format1\n",
    "worksheet.set_column('A:A', 20, format1)\n",
    "\n",
    "# C:C 전체, Cell 크기 기본값 , format 설정은 위의 format2\n",
    "worksheet.set_column('B:B', 15, format2)\n",
    "\n",
    "worksheet.write(0,2, \"(단위:억)\")\n",
    "writer.close()"
   ]
  },
  {
   "cell_type": "code",
   "execution_count": null,
   "id": "ac2965e9",
   "metadata": {},
   "outputs": [],
   "source": []
  }
 ],
 "metadata": {
  "kernelspec": {
   "display_name": "Python 3 (ipykernel)",
   "language": "python",
   "name": "python3"
  },
  "language_info": {
   "codemirror_mode": {
    "name": "ipython",
    "version": 3
   },
   "file_extension": ".py",
   "mimetype": "text/x-python",
   "name": "python",
   "nbconvert_exporter": "python",
   "pygments_lexer": "ipython3",
   "version": "3.9.13"
  }
 },
 "nbformat": 4,
 "nbformat_minor": 5
}
